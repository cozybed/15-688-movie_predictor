{
 "cells": [
  {
   "cell_type": "code",
   "execution_count": 2,
   "metadata": {},
   "outputs": [],
   "source": [
    "import pandas as pd\n",
    "import numpy as np"
   ]
  },
  {
   "cell_type": "code",
   "execution_count": 3,
   "metadata": {},
   "outputs": [],
   "source": [
    "import matplotlib.pyplot as plt\n"
   ]
  },
  {
   "cell_type": "code",
   "execution_count": 12,
   "metadata": {},
   "outputs": [
    {
     "name": "stdout",
     "output_type": "stream",
     "text": [
      "imdbID\n",
      "tt0499549     77025481.0\n",
      "tt1055369    108966307.0\n",
      "tt0417741     77835727.0\n",
      "tt1259571    142839137.0\n",
      "tt1049413     68108790.0\n",
      "tt1119646     44979319.0\n",
      "tt0796366     72500000.0\n",
      "tt0878804     34119372.0\n",
      "tt1231580     48875415.0\n",
      "tt0988045     62304277.0\n",
      "tt0892782     59321095.0\n",
      "tt1080016     41690382.0\n",
      "tt0458525     85058003.0\n",
      "tt1078912     70052004.0\n",
      "tt1190080     65237614.0\n",
      "tt1041829     33627598.0\n",
      "tt1013752     70950500.0\n",
      "tt1046173     54713046.0\n",
      "tt1067106     30051075.0\n",
      "tt0808151     46204168.0\n",
      "tt0438488     51943726.0\n",
      "tt0844471     30304648.0\n",
      "tt0361748     38054676.0\n",
      "tt0436339     31706934.0\n",
      "tt1136608     37354308.0\n",
      "tt1230414     22100822.0\n",
      "tt1078940     34286740.0\n",
      "tt0409459     55214334.0\n",
      "tt0780521       786190.0\n",
      "tt1152836     25271675.0\n",
      "                ...     \n",
      "tt2884018        69833.0\n",
      "tt3844362        53022.0\n",
      "tt1322393        27717.0\n",
      "tt3966404        22151.0\n",
      "tt3859304       386328.0\n",
      "tt3508840        47892.0\n",
      "tt1135989        37170.0\n",
      "tt3707106        96250.0\n",
      "tt3756788        25118.0\n",
      "tt3841424        13754.0\n",
      "tt3451720        20000.0\n",
      "tt3422078        11413.0\n",
      "tt4082068        20249.0\n",
      "tt2097331        14506.0\n",
      "tt2400463        67739.0\n",
      "tt1837562       100847.0\n",
      "tt1881002       131175.0\n",
      "tt3717016         2969.0\n",
      "tt3726704         8682.0\n",
      "tt2349144        12434.0\n",
      "tt3813310        26146.0\n",
      "tt1598642        56902.0\n",
      "tt3730510        26674.0\n",
      "tt4288636        12007.0\n",
      "tt3792960        19812.0\n",
      "tt3121332         8023.0\n",
      "tt3672840        12102.0\n",
      "tt4158624        18131.0\n",
      "tt3640682        15758.0\n",
      "tt3343784         5132.0\n",
      "Name: Opening Weekend USA, Length: 3025, dtype: float64\n"
     ]
    }
   ],
   "source": [
    "df = pd.read_csv('result.csv',index_col=['imdbID'], header=0)\n",
    "df = df[np.isfinite(df['Opening Weekend USA'])]\n"
   ]
  },
  {
   "cell_type": "code",
   "execution_count": 22,
   "metadata": {},
   "outputs": [
    {
     "data": {
      "image/png": "[encoded data removed]",
      "text/plain": [
       "<matplotlib.figure.Figure at 0x130cfbba8>"
      ]
     },
     "metadata": {},
     "output_type": "display_data"
    }
   ],
   "source": [
    "n, bins, patches = plt.hist(df['Opening Weekend USA'], bins=10)\n",
    "plt.show()"
   ]
  },
  {
   "cell_type": "code",
   "execution_count": null,
   "metadata": {},
   "outputs": [],
   "source": []
  }
 ],
 "metadata": {
  "kernelspec": {
   "display_name": "Python 3",
   "language": "python",
   "name": "python3"
  },
  "language_info": {
   "codemirror_mode": {
    "name": "ipython",
    "version": 3
   },
   "file_extension": ".py",
   "mimetype": "text/x-python",
   "name": "python",
   "nbconvert_exporter": "python",
   "pygments_lexer": "ipython3",
   "version": "3.6.4"
  }
 },
 "nbformat": 4,
 "nbformat_minor": 2
}
