{
 "cells": [
  {
   "cell_type": "code",
   "execution_count": 1,
   "metadata": {},
   "outputs": [],
   "source": [
    "import json\n",
    "import glob\n",
    "import sklearn\n",
    "import requests\n",
    "from bs4 import BeautifulSoup\n",
    "import pandas as pd\n",
    "import numpy as np\n",
    "from sklearn.utils import shuffle\n",
    "from sklearn.linear_model import LogisticRegression\n",
    "from sklearn.linear_model import SGDClassifier\n",
    "from sklearn.linear_model import LinearRegression\n",
    "from sklearn.tree import DecisionTreeClassifier\n",
    "import matplotlib.pyplot as plt"
   ]
  },
  {
   "cell_type": "code",
   "execution_count": 9,
   "metadata": {},
   "outputs": [],
   "source": [
    "df = pd.read_csv('result.csv',index_col=['imdbID'], header=0)\n",
    "df = df[np.isfinite(df['Opening Weekend USA'])]\n",
    "df['BoxOffice'] = df['BoxOffice'].replace( '[\\$,)]','', regex=True ).astype(float)\n",
    "df['Production'] = [d.replace('/',',') for d in df['Production']]\n",
    "\n",
    "df['Director'] = [d.replace('(co-director)','') for d in df['Director']]\n",
    "df['Runtime'] = df['Runtime'].replace( 'min','', regex=True ).astype(int)\n",
    "df['Released'] = [a[3:6] for a in df['Released']]\n",
    "df['imdbRating'] = [round(r * 2) / 2 for r in df['imdbRating']]\n",
    "df['Oscar'] = [int(str.find('Oscar') > 0) for str in df['Awards']]\n",
    "df = shuffle(df)"
   ]
  },
  {
   "cell_type": "code",
   "execution_count": 10,
   "metadata": {},
   "outputs": [],
   "source": [
    "\n",
    "def one_hot_encoding_column(df, col_name, delimiter=','):\n",
    "    item_map = {}\n",
    "    item_count = 0\n",
    "    movie_size = len(df)\n",
    "    for i in range(movie_size):\n",
    "        items = str(df[col_name].iloc[i])\n",
    "        items_arr = items.split(delimiter)\n",
    "        for item in items_arr:\n",
    "            item = item.strip()\n",
    "            if item not in item_map:\n",
    "                item_map[item] = item_count\n",
    "                item_count += 1\n",
    "\n",
    "    Matrix = [[0 for x in range(item_count)] for y in range(movie_size)] \n",
    "    for i in range(movie_size):\n",
    "        items = str(df[col_name].iloc[i])\n",
    "        items_arr = items.split(delimiter)\n",
    "        for item in items_arr:\n",
    "            item = item.strip()\n",
    "            idx = item_map[item]\n",
    "            Matrix[i][idx] = 1\n",
    "    return item_map, np.asarray(Matrix)"
   ]
  },
  {
   "cell_type": "code",
   "execution_count": 5,
   "metadata": {},
   "outputs": [],
   "source": [
    "def get_log_label (bins, box_office_value):\n",
    "    log_val = np.log(box_office_value)\n",
    "    for i in range(len(bins[1])):\n",
    "        if bins[1][i] <= log_val and log_val <= bins[1][i+1]:\n",
    "            return i\n",
    "    return len(bins[1]) - 1"
   ]
  },
  {
   "cell_type": "code",
   "execution_count": 14,
   "metadata": {},
   "outputs": [
    {
     "name": "stdout",
     "output_type": "stream",
     "text": [
      "Logistic regression with: 2 label classes, accuracy: 0.8294573643410853\n",
      "Logistic regression with: 4 label classes, accuracy: 0.7441860465116279\n",
      "Logistic regression with: 8 label classes, accuracy: 0.6356589147286822\n",
      "label 1 : 64.99999999999999 - 432.1140146273819 , 1.0 movies\n",
      "label 2 : 432.1140146273819 - 2872.6541790368224 , 17.0 movies\n",
      "label 3 : 2872.6541790368224 - 19097.140460611212 , 245.0 movies\n",
      "label 4 : 19097.140460611212 - 126956.0312667343 , 673.0 movies\n",
      "label 5 : 126956.0312667343 - 843992.0054127391 , 367.0 movies\n",
      "label 6 : 843992.0054127391 - 5610781.13495866 , 309.0 movies\n",
      "label 7 : 5610781.13495866 - 37299956.32957797 , 1128.0 movies\n",
      "label 8 : 37299956.32957797 - 247966674.99999967 , 285.0 movies\n"
     ]
    }
   ],
   "source": [
    "def setup_prediction_matrix (bins, year):\n",
    "    \n",
    "    labels = [get_log_label(bins, o) for o in df['Opening Weekend USA']]\n",
    "    \n",
    "    actors_map, actors_Matrix = one_hot_encoding_column(df,'Actors')\n",
    "    genre_map, genre_Matrix = one_hot_encoding_column(df,'Genre')\n",
    "    contry_map, country_Matrix = one_hot_encoding_column(df,'Country')\n",
    "    production_map, production_Matrix = one_hot_encoding_column(df,'Production')\n",
    "    rated_map, rated_Matrix = one_hot_encoding_column(df,'Rated')\n",
    "    year_map, year_Matrix = one_hot_encoding_column(df,'Year')\n",
    "    director_map, director_Matrix = one_hot_encoding_column(df,'Director')\n",
    "    released_map, released_Matrix =  one_hot_encoding_column(df,'Released')\n",
    "\n",
    "\n",
    "    t_Matrix = np.concatenate((actors_Matrix, \n",
    "                            production_Matrix,\n",
    "                            genre_Matrix,\n",
    "                            country_Matrix,\n",
    "                            rated_Matrix,\n",
    "                            director_Matrix,\n",
    "                            released_Matrix,\n",
    "                            ratring_Matrix\n",
    "                            ), axis=1)\n",
    "    \n",
    "    x_train = t_Matrix[df['Year'] != year]\n",
    "    x_test = t_Matrix[df['Year'] == year ]\n",
    "    y_train = np.array(labels)[df['Year'] != year]\n",
    "    y_test = np.array(labels)[df['Year'] == year ]\n",
    "    \n",
    "    return x_train, x_test, y_train, y_test\n",
    "\n",
    "\n",
    "\n",
    "def logistic_regression_predict (bin_size, year, verbose=False):\n",
    "    bins = plt.hist(np.log(df['Opening Weekend USA']), bin_size)\n",
    "\n",
    "    x_train, x_test, y_train, y_test = setup_prediction_matrix (bins, year)\n",
    "    clf_l2_LR = LogisticRegression(multi_class=\"multinomial\", solver = 'lbfgs', \\\n",
    "        class_weight ='balanced', random_state = 2)\n",
    "    clf_l2_LR.fit(x_train, y_train)\n",
    "    y_predit = clf_l2_LR.predict(x_test)\n",
    "    print (\"Logistic regression with:\", bin_size, \"label classes,\", \"accuracy:\", np.mean(y_predit == y_test))\n",
    "    plt.close()\n",
    "\n",
    "    return bins \n",
    "    \n",
    "\n",
    "def show_bins(bins):\n",
    "     for i in range(len(bins[0])):\n",
    "        print (\"label\", i+1 , \":\",  np.exp(bins[1][i]), '-' ,np.exp(bins[1][i+1]), \",\" , str(bins[0][i]) , \"movies\")\n",
    "    \n",
    "    \n",
    "logistic_regression_predict(2, 2017)\n",
    "logistic_regression_predict(4, 2017)\n",
    "cur_bins = logistic_regression_predict(8, 2017)\n",
    "show_bins(cur_bins)"
   ]
  },
  {
   "cell_type": "code",
   "execution_count": null,
   "metadata": {},
   "outputs": [],
   "source": []
  }
 ],
 "metadata": {
  "kernelspec": {
   "display_name": "Python 3",
   "language": "python",
   "name": "python3"
  },
  "language_info": {
   "codemirror_mode": {
    "name": "ipython",
    "version": 3
   },
   "file_extension": ".py",
   "mimetype": "text/x-python",
   "name": "python",
   "nbconvert_exporter": "python",
   "pygments_lexer": "ipython3",
   "version": "3.6.4"
  }
 },
 "nbformat": 4,
 "nbformat_minor": 2
}
