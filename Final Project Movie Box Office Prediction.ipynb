{
 "cells": [
  {
   "cell_type": "markdown",
   "metadata": {},
   "source": [
    "## Moive Success (Awards and Box Office) Prediction ##\n"
   ]
  },
  {
   "cell_type": "code",
   "execution_count": 2,
   "metadata": {},
   "outputs": [],
   "source": [
    "import pandas as pd\n",
    "import numpy as np\n",
    "import math\n",
    "import matplotlib.pyplot as plt"
   ]
  },
  {
   "cell_type": "markdown",
   "metadata": {},
   "source": [
    "### Data Cleaning ##"
   ]
  },
  {
   "cell_type": "code",
   "execution_count": 1,
   "metadata": {},
   "outputs": [],
   "source": []
  },
  {
   "cell_type": "code",
   "execution_count": 3,
   "metadata": {},
   "outputs": [
    {
     "data": {
      "text/html": [
       "<div>\n",
       "<style scoped>\n",
       "    .dataframe tbody tr th:only-of-type {\n",
       "        vertical-align: middle;\n",
       "    }\n",
       "\n",
       "    .dataframe tbody tr th {\n",
       "        vertical-align: top;\n",
       "    }\n",
       "\n",
       "    .dataframe thead th {\n",
       "        text-align: right;\n",
       "    }\n",
       "</style>\n",
       "<table border=\"1\" class=\"dataframe\">\n",
       "  <thead>\n",
       "    <tr style=\"text-align: right;\">\n",
       "      <th></th>\n",
       "      <th>Actors</th>\n",
       "      <th>Awards</th>\n",
       "      <th>BoxOffice</th>\n",
       "      <th>Country</th>\n",
       "      <th>DVD</th>\n",
       "      <th>Director</th>\n",
       "      <th>Genre</th>\n",
       "      <th>Language</th>\n",
       "      <th>Metascore</th>\n",
       "      <th>Production</th>\n",
       "      <th>...</th>\n",
       "      <th>Writer</th>\n",
       "      <th>Year</th>\n",
       "      <th>imdbRating</th>\n",
       "      <th>imdbVotes</th>\n",
       "      <th>Cumulative Worldwide Gross</th>\n",
       "      <th>Gross USA</th>\n",
       "      <th>Opening Weekend USA</th>\n",
       "      <th>budget</th>\n",
       "      <th>critic number</th>\n",
       "      <th>user review number</th>\n",
       "    </tr>\n",
       "    <tr>\n",
       "      <th>imdbID</th>\n",
       "      <th></th>\n",
       "      <th></th>\n",
       "      <th></th>\n",
       "      <th></th>\n",
       "      <th></th>\n",
       "      <th></th>\n",
       "      <th></th>\n",
       "      <th></th>\n",
       "      <th></th>\n",
       "      <th></th>\n",
       "      <th></th>\n",
       "      <th></th>\n",
       "      <th></th>\n",
       "      <th></th>\n",
       "      <th></th>\n",
       "      <th></th>\n",
       "      <th></th>\n",
       "      <th></th>\n",
       "      <th></th>\n",
       "      <th></th>\n",
       "      <th></th>\n",
       "    </tr>\n",
       "  </thead>\n",
       "  <tbody>\n",
       "    <tr>\n",
       "      <th>tt0499549</th>\n",
       "      <td>Sam Worthington, Zoe Saldana, Sigourney Weaver...</td>\n",
       "      <td>Won 3 Oscars. Another 85 wins &amp; 128 nominations.</td>\n",
       "      <td>749700000.0</td>\n",
       "      <td>UK, USA</td>\n",
       "      <td>22 Apr 2010</td>\n",
       "      <td>James Cameron</td>\n",
       "      <td>Action, Adventure, Fantasy</td>\n",
       "      <td>English, Spanish</td>\n",
       "      <td>83.0</td>\n",
       "      <td>20th Century Fox</td>\n",
       "      <td>...</td>\n",
       "      <td>James Cameron</td>\n",
       "      <td>2009</td>\n",
       "      <td>7.8</td>\n",
       "      <td>985,058</td>\n",
       "      <td>2.787965e+09</td>\n",
       "      <td>760507625.0</td>\n",
       "      <td>77025481.0</td>\n",
       "      <td>237000000</td>\n",
       "      <td>720.0</td>\n",
       "      <td>3167.0</td>\n",
       "    </tr>\n",
       "    <tr>\n",
       "      <th>tt1055369</th>\n",
       "      <td>Shia LaBeouf, Megan Fox, Josh Duhamel, Tyrese ...</td>\n",
       "      <td>Nominated for 1 Oscar. Another 15 wins &amp; 27 no...</td>\n",
       "      <td>402076689.0</td>\n",
       "      <td>USA</td>\n",
       "      <td>20 Oct 2009</td>\n",
       "      <td>Michael Bay</td>\n",
       "      <td>Action, Adventure, Sci-Fi</td>\n",
       "      <td>English, Spanish</td>\n",
       "      <td>35.0</td>\n",
       "      <td>Paramount/Dreamworks</td>\n",
       "      <td>...</td>\n",
       "      <td>Ehren Kruger, Roberto Orci, Alex Kurtzman</td>\n",
       "      <td>2009</td>\n",
       "      <td>6.0</td>\n",
       "      <td>349,263</td>\n",
       "      <td>8.363037e+08</td>\n",
       "      <td>402111870.0</td>\n",
       "      <td>108966307.0</td>\n",
       "      <td>200000000</td>\n",
       "      <td>373.0</td>\n",
       "      <td>1459.0</td>\n",
       "    </tr>\n",
       "  </tbody>\n",
       "</table>\n",
       "<p>2 rows × 25 columns</p>\n",
       "</div>"
      ],
      "text/plain": [
       "                                                      Actors  \\\n",
       "imdbID                                                         \n",
       "tt0499549  Sam Worthington, Zoe Saldana, Sigourney Weaver...   \n",
       "tt1055369  Shia LaBeouf, Megan Fox, Josh Duhamel, Tyrese ...   \n",
       "\n",
       "                                                      Awards    BoxOffice  \\\n",
       "imdbID                                                                      \n",
       "tt0499549   Won 3 Oscars. Another 85 wins & 128 nominations.  749700000.0   \n",
       "tt1055369  Nominated for 1 Oscar. Another 15 wins & 27 no...  402076689.0   \n",
       "\n",
       "           Country          DVD       Director                       Genre  \\\n",
       "imdbID                                                                       \n",
       "tt0499549  UK, USA  22 Apr 2010  James Cameron  Action, Adventure, Fantasy   \n",
       "tt1055369      USA  20 Oct 2009    Michael Bay   Action, Adventure, Sci-Fi   \n",
       "\n",
       "                   Language  Metascore            Production  \\\n",
       "imdbID                                                         \n",
       "tt0499549  English, Spanish       83.0      20th Century Fox   \n",
       "tt1055369  English, Spanish       35.0  Paramount/Dreamworks   \n",
       "\n",
       "                  ...                                             Writer  \\\n",
       "imdbID            ...                                                      \n",
       "tt0499549         ...                                      James Cameron   \n",
       "tt1055369         ...          Ehren Kruger, Roberto Orci, Alex Kurtzman   \n",
       "\n",
       "           Year imdbRating  imdbVotes Cumulative Worldwide Gross    Gross USA  \\\n",
       "imdbID                                                                          \n",
       "tt0499549  2009        7.8    985,058               2.787965e+09  760507625.0   \n",
       "tt1055369  2009        6.0    349,263               8.363037e+08  402111870.0   \n",
       "\n",
       "           Opening Weekend USA     budget critic number  user review number  \n",
       "imdbID                                                                       \n",
       "tt0499549           77025481.0  237000000         720.0              3167.0  \n",
       "tt1055369          108966307.0  200000000         373.0              1459.0  \n",
       "\n",
       "[2 rows x 25 columns]"
      ]
     },
     "execution_count": 3,
     "metadata": {},
     "output_type": "execute_result"
    }
   ],
   "source": [
    "df = pd.read_csv('result.csv',index_col=['imdbID'])\n",
    "\n",
    "df['BoxOffice'] = df['BoxOffice'].replace( '[\\$,)]','', regex=True ).astype(float)\n",
    "df['Runtime'] = df['Runtime'].replace( 'min','', regex=True ).astype(int)\n",
    "df['Year'] = df['Year'].astype(int)\n",
    "df['Released'] = [a[3:6] for a in df['Released']]\n",
    "df = df[np.isfinite(df['Opening Weekend USA'])]\n",
    "\n",
    "df[:2]"
   ]
  },
  {
   "cell_type": "code",
   "execution_count": null,
   "metadata": {},
   "outputs": [],
   "source": []
  },
  {
   "cell_type": "code",
   "execution_count": 161,
   "metadata": {},
   "outputs": [
    {
     "name": "stdout",
     "output_type": "stream",
     "text": [
      "3025\n"
     ]
    }
   ],
   "source": [
    "df = df.sample(frac=1).reset_index(drop=True)\n",
    "\n",
    "print (len(df))"
   ]
  },
  {
   "cell_type": "code",
   "execution_count": 194,
   "metadata": {},
   "outputs": [
    {
     "name": "stdout",
     "output_type": "stream",
     "text": [
      "The bins are:\n",
      "label 0 : 64.99999999999999 - 812.506199988389 , 3.0 movies\n",
      "label 1 : 812.506199988389 - 10156.4050003011 , 126.0 movies\n",
      "label 2 : 10156.4050003011 - 126956.0312667343 , 807.0 movies\n",
      "label 3 : 126956.0312667343 - 1586962.5004637125 , 434.0 movies\n",
      "label 4 : 1586962.5004637125 - 19837182.62732065 , 1005.0 movies\n",
      "label 5 : 19837182.62732065 - 247966674.99999967 , 650.0 movies\n"
     ]
    },
    {
     "data": {
      "image/png": "[encoded data removed]",
      "text/plain": [
       "<matplotlib.figure.Figure at 0x109e33978>"
      ]
     },
     "metadata": {},
     "output_type": "display_data"
    }
   ],
   "source": [
    "bin_size = 6\n",
    "bins = plt.hist(np.log(df['Opening Weekend USA']), bin_size)\n",
    "for i in range(bin_size):\n",
    "    plt.text(bins[1][i],bins[0][i],str(bins[0][i]))\n",
    "\n",
    "print (\"The bins are:\")\n",
    "for i in  range(bin_size):\n",
    "    print (\"label\", i , \":\",  math.exp(bins[1][i]), '-' ,math.exp(bins[1][i+1]), \",\" , str(bins[0][i]) , \"movies\")\n",
    "\n",
    "#print (df[df['Opening Weekend USA'] == np.max(df['Opening Weekend USA'] )]['Title'])"
   ]
  },
  {
   "cell_type": "code",
   "execution_count": 219,
   "metadata": {},
   "outputs": [],
   "source": [
    "def get_log_label (bins, box_office_value):\n",
    "    log_val = np.log(box_office_value)\n",
    "    for i in range(len(bins[1])):\n",
    "        if bins[1][i] <= log_val and log_val <= bins[1][i+1]:\n",
    "            return i\n",
    "    return len(bins[1]) - 1\n",
    "\n",
    "\n",
    "def get_labels(gross):\n",
    "    gross_classes = np.array([0, 0.005, 0.01, 0.02, float('Inf')]) * 1e8\n",
    "    \n",
    "    labels = []\n",
    "    for i in gross:\n",
    "        for j in range(len(gross_classes)):\n",
    "            if gross_classes[j] <= i < gross_classes[j+1]:\n",
    "                labels.append(j)\n",
    "    return labels\n"
   ]
  },
  {
   "cell_type": "code",
   "execution_count": 220,
   "metadata": {},
   "outputs": [],
   "source": [
    "def one_hot_encoding_column(df, col_name):\n",
    "    item_map = {}\n",
    "    item_count = 0\n",
    "    total_columns = len(df)\n",
    "    for i in range(total_columns):\n",
    "        items = str(df[col_name].iloc[i])\n",
    "        items_arr = items.split(\",\")\n",
    "        for item in items_arr:\n",
    "            item = item.strip()\n",
    "            if item not in item_map:\n",
    "                item_map[item] = item_count\n",
    "                item_count += 1\n",
    "    \n",
    "    Matrix = [[0 for x in range(item_count)] for y in range(total_columns)] \n",
    "    for i in range(total_columns):\n",
    "        items = str(df[col_name].iloc[i])\n",
    "        items_arr = items.split(\",\")\n",
    "        for item in items_arr:\n",
    "            item = item.strip()\n",
    "            idx = item_map[item]\n",
    "    return item_map, np.asarray(Matrix)\n",
    "    \n",
    "actors_map, actors_Matrix = one_hot_encoding_column(df, 'Actors')\n",
    "genre_map, genre_Matrix = one_hot_encoding_column(df, 'Genre')\n",
    "contry_map, country_Matrix = one_hot_encoding_column(df, 'Country')\n",
    "production_map, production_Matrix = one_hot_encoding_column(df, 'Production')\n",
    "rated_map, rated_Matrix = one_hot_encoding_column(df,'Rated')\n",
    "year_map, year_Matrix = one_hot_encoding_column(df,'Year')\n",
    "director_map, director_Matrix = one_hot_encoding_column(df, 'Director')\n",
    "released_map, released_Matrix =  one_hot_encoding_column(df, 'Released')\n"
   ]
  },
  {
   "cell_type": "code",
   "execution_count": 227,
   "metadata": {},
   "outputs": [
    {
     "name": "stdout",
     "output_type": "stream",
     "text": [
      "0.5305785123966942\n"
     ]
    }
   ],
   "source": [
    "from sklearn.linear_model import LogisticRegression\n",
    "\n",
    "\n",
    "movie_size = (len(df))\n",
    "test_size = int(movie_size/5)\n",
    "sample_size = movie_size - test_size\n",
    "\n",
    "#labels = [get_log_label(bins, o) for o in df['Opening Weekend USA']]\n",
    "labels2 = get_labels(df['Opening Weekend USA'])\n",
    "t_Matrix = genre_Matrix\n",
    "\n",
    "x_train = t_Matrix[:sample_size]\n",
    "x_test = t_Matrix[sample_size: ]\n",
    "\n",
    "y_train = np.array(labels2[:sample_size])\n",
    "y_test = np.array(labels2[sample_size: ])\n",
    "\n",
    "clf_l2_LR = LogisticRegression(multi_class=\"multinomial\", solver = 'lbfgs')\n",
    "\n",
    "clf_l2_LR.fit(x_train, y_train)\n",
    "y_predit = clf_l2_LR.predict(x_test)\n",
    "\n",
    "#for ii in range (len(y_test)):\n",
    "    #print (y_predit[ii], y_test[ii])\n",
    "\n",
    "\n",
    "print (np.mean(y_predit == y_test))"
   ]
  },
  {
   "cell_type": "code",
   "execution_count": 188,
   "metadata": {},
   "outputs": [],
   "source": [
    "def split_actors(index, arr):\n",
    "    try:\n",
    "        return arr.split(',')[index].strip()\n",
    "    except IndexError:\n",
    "        return 'Unknown'\n",
    "        \n",
    "df['Actor0'] = [split_actors(0, a) for a in df['Actors']]\n",
    "df['Actor1'] = [split_actors(1, a) for a in df['Actors']]\n",
    "df['Actor2'] = [split_actors(2, a) for a in df['Actors']]\n",
    "df['Actor3'] = [split_actors(3, a) for a in df['Actors']]"
   ]
  },
  {
   "cell_type": "code",
   "execution_count": 151,
   "metadata": {},
   "outputs": [
    {
     "name": "stdout",
     "output_type": "stream",
     "text": [
      "2309\n"
     ]
    }
   ],
   "source": [
    "df['Oscar'] = [int(str.find('Oscar') > 0) for str in df['Awards']]\n",
    "df['Wins'] = [int(str.find('win') > 0) for str in df['Awards']]\n",
    "\n",
    "print (len(df[df['Wins'] == 1]))"
   ]
  },
  {
   "cell_type": "code",
   "execution_count": 142,
   "metadata": {},
   "outputs": [
    {
     "data": {
      "image/png": "[encoded data removed]",
      "text/plain": [
       "<matplotlib.figure.Figure at 0x11e5b0160>"
      ]
     },
     "metadata": {},
     "output_type": "display_data"
    }
   ],
   "source": [
    "years = [i for i in range (2003, 2018)]\n",
    "years_count = len(years)\n",
    "avg_opening_by_year_mean = [np.mean(df[df['Year']== i]['Opening Weekend USA']) for i in years]\n",
    "avg_opening_by_year_max = [np.max(df[df['Year']== i]['Opening Weekend USA'] ) for i in years]\n",
    "\n",
    "plt.plot(years, avg_opening_by_year_mean, label='Mean')\n",
    "plt.plot(years, avg_opening_by_year_max, label = 'Max')\n",
    "plt.legend()\n",
    "plt.show()\n"
   ]
  },
  {
   "cell_type": "code",
   "execution_count": 34,
   "metadata": {},
   "outputs": [
    {
     "data": {
      "text/plain": [
       "162911.61463928752"
      ]
     },
     "execution_count": 34,
     "metadata": {},
     "output_type": "execute_result"
    }
   ],
   "source": [
    "\n"
   ]
  },
  {
   "cell_type": "code",
   "execution_count": null,
   "metadata": {},
   "outputs": [],
   "source": []
  }
 ],
 "metadata": {
  "kernelspec": {
   "display_name": "Python 3",
   "language": "python",
   "name": "python3"
  },
  "language_info": {
   "codemirror_mode": {
    "name": "ipython",
    "version": 3
   },
   "file_extension": ".py",
   "mimetype": "text/x-python",
   "name": "python",
   "nbconvert_exporter": "python",
   "pygments_lexer": "ipython3",
   "version": "3.6.4"
  }
 },
 "nbformat": 4,
 "nbformat_minor": 2
}
