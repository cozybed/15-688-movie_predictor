{
 "cells": [
  {
   "cell_type": "code",
   "execution_count": 7,
   "metadata": {},
   "outputs": [
    {
     "data": {
      "text/plain": [
       "\"\\nunique_genres = get_genres (df)\\n\\n\\nfor genre in unique_genres:\\n    genre_idx = df[df['genres'].str.contains(genre)].index\\n\""
      ]
     },
     "execution_count": 7,
     "metadata": {},
     "output_type": "execute_result"
    }
   ],
   "source": [
    "import numpy as np\n",
    "import pandas\n",
    "import matplotlib.pyplot as plt\n",
    "\n",
    "df = pandas.read_csv(\"movie_metadata.csv\")\n",
    "df = df.dropna(axis=0, how='any')\n",
    "size =  len(df)\n",
    "\n",
    "def get_genres (dataframe):\n",
    "    unique_genres = set([])\n",
    "    for row in dataframe['genres']:\n",
    "        genres = row.split(\"|\")\n",
    "        for g in genres:\n",
    "            unique_genres.add(g)\n",
    "    unique_genres = sorted(unique_genres)\n",
    "    return unique_genres\n",
    "\n",
    "'''\n",
    "unique_genres = get_genres (df)\n",
    "\n",
    "\n",
    "for genre in unique_genres:\n",
    "    genre_idx = df[df['genres'].str.contains(genre)].index\n",
    "'''"
   ]
  },
  {
   "cell_type": "code",
   "execution_count": 10,
   "metadata": {},
   "outputs": [
    {
     "data": {
      "image/png": "[encoded data removed]",
      "text/plain": [
       "<matplotlib.figure.Figure at 0x113734f28>"
      ]
     },
     "metadata": {},
     "output_type": "display_data"
    }
   ],
   "source": [
    "n, bins, patches = plt.hist(df['gross'], bins=80)\n",
    "plt.show()"
   ]
  },
  {
   "cell_type": "code",
   "execution_count": 8,
   "metadata": {},
   "outputs": [
    {
     "data": {
      "image/png": "[encoded data removed]",
      "text/plain": [
       "<matplotlib.figure.Figure at 0x1153fe550>"
      ]
     },
     "metadata": {},
     "output_type": "display_data"
    }
   ],
   "source": [
    "plt.scatter(df['gross'], np.zeros(len(df['gross'])))\n",
    "plt.show()"
   ]
  },
  {
   "cell_type": "code",
   "execution_count": 13,
   "metadata": {},
   "outputs": [
    {
     "name": "stdout",
     "output_type": "stream",
     "text": [
      "[22, 13, 11, 16, 5, 14, 11, 17, 13, 14, 11, 9, 16, 6, 13, 9, 20, 12, 10, 12]\n"
     ]
    }
   ],
   "source": [
    "def get_labels(gross):\n",
    "    gross_classes = np.array([0,0.2,0.3,0.4,0.5,0.6,0.8,1.0,1.2,1.4,1.7,2.0,2.4,2.8,3.2,3.6,4.0,4.5,5.0,5.5,6.0,6.5,7.0,float('Inf')]) * 1e8\n",
    "    \n",
    "    labels = []\n",
    "    for i in gross:\n",
    "        for j in range(len(gross_classes)):\n",
    "            if gross_classes[j] <= i < gross_classes[j+1]:\n",
    "                labels.append(j)\n",
    "    return labels\n",
    "\n",
    "print(get_labels(df['gross'])[:20])"
   ]
  },
  {
   "cell_type": "code",
   "execution_count": null,
   "metadata": {},
   "outputs": [],
   "source": []
  }
 ],
 "metadata": {
  "kernelspec": {
   "display_name": "Python 3",
   "language": "python",
   "name": "python3"
  },
  "language_info": {
   "codemirror_mode": {
    "name": "ipython",
    "version": 3
   },
   "file_extension": ".py",
   "mimetype": "text/x-python",
   "name": "python",
   "nbconvert_exporter": "python",
   "pygments_lexer": "ipython3",
   "version": "3.6.3"
  }
 },
 "nbformat": 4,
 "nbformat_minor": 2
}
