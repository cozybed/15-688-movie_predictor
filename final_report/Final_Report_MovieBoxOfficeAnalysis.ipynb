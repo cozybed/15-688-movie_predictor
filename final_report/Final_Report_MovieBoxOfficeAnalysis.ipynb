{
 "cells": [
  {
   "cell_type": "markdown",
   "metadata": {},
   "source": [
    "# 1 Introduction\n",
    "## 1.1 Background\n",
    "Movie box office prediction can be very meaningful in practice. During pre-production casting period, investors can make better decisions about which production crew and actors to use. During pre-release period, it is good to know the box office expectations so that budget and timing of release can be adjusted accordingly. In addition, after film is moved onto the stage, theaters may want to determine how to arrange the time slots, or even shift viewers’ decision in movie selection. There are many factors that can affect the open weekend gross of a movie such as production, crew, genre, release date, whether it is a sequel and so on. Statistics and reviews in the first week also say a lot. \n",
    "\n",
    "## 1.2 Problem Statement\n",
    "Our project aims to predict opening weekend box office and overall box office based on history data from IMDB and also statistics of Goole Trend. And we are interested to know what features combined makes a movie more crowd pleasing, award winning, or even Oscar worthy. We will write our crawler to gather raw data from IMDB site using python scrapy. The primary features we want to take a closer look into includes (but not limited to) first week user reviews, first week box office earnings, actors, directors, movie keywords etc. We would like to try out several models to optimize training outcome, and use part of movies as our validation sample to validate our model selection.\n",
    "## 1.3 Data Description\n",
    "Our data is composed of 2 parts. The first part is the features we crawled from web pages of IMDB. Below is features we will extracted and used to train our model.\n",
    "\n",
    "| Feature Name             | Feature Description                                |\n",
    "|--------------------------|----------------------------------------------------|\n",
    "| IMDB ID                  | ID of Movie in IMDB                                |\n",
    "| Actors                   | Actors of this movie                               |\n",
    "| Awards                   | Awards This Movie Earned                           |\n",
    "| Box Office               | Total Box Office of the Movie                      |\n",
    "| Country                  | Release Country                                    |\n",
    "| Director                 | Director of this movie                             |\n",
    "| Genres                   | Genres this movie belongs to                       |\n",
    "| Language                 | released in which language                         |\n",
    "| Production               | Production Company of This Movie                   |\n",
    "| Rated                    | Rated: PG, R, PG13...                              |\n",
    "| Release                  | Release Date of the Movie                          |\n",
    "| Runtime                  | Duration of the movie                              |\n",
    "| Title                    | Title of the movie                                 |\n",
    "| Year                     | Release Year                                       |\n",
    "| imdbRating               | IMDB Rating of the Movie                           |\n",
    "| imdbVotes                | Votes Number of the Movie on IMDB                  |\n",
    "| Opening Weekend USA      | Box office of the first week                       |\n",
    "| budget                   | budge of the movie                                 |\n",
    "| Critic Number            | Critic Number of the Movie on IMDB                 |\n",
    "| user review number       | number of user reviews                             |\n",
    "\n",
    "The second part of the dataset is Google Trend. <br>\n",
    "<img style=\"float:center; width:300px\" src='./google_trend.png'/><br>\n",
    "Above is the format of our google trend data. The first row is the keywords that we use to request the google trend. The rest rows are the date and google trend of this keywork on that date. All the google trend is normalized to 0-100."
   ]
  },
  {
   "cell_type": "markdown",
   "metadata": {},
   "source": [
    "# 2 Methods of Extracting Data\n",
    "The data collection method for model 1 is to use python’s library: Requests and beautiful soup to download and parse the html. We extract many features from the web page of imdb and filter out the movie that have box office to be our target information. We will store the information in CSV format, which will be easy for our model to read.\n",
    "\n",
    "\n",
    "<img style=\"float:center; width:800px\" src='./model1.png'/>\n",
    "\n",
    "\n",
    "Because there’s no official API of google trend and it’s hard to use web scrapers to request the information we need, we use third-party API Pytrends to request the trend for us. We want to have the google trend of certain movie within range [one week before release date, one month after release date]. The result will also be stored in CSV format.\n",
    "<img style=\"float:center; width:700px\" src='./model2.png'/>"
   ]
  },
  {
   "cell_type": "markdown",
   "metadata": {},
   "source": [
    "# 3 Data Exploration"
   ]
  },
  {
   "cell_type": "code",
   "execution_count": 1,
   "metadata": {},
   "outputs": [],
   "source": [
    "import pandas as pd\n",
    "with open('result.csv') as file:\n",
    "    dataset = pd.read_csv(file)\n",
    "    \n",
    "with open('google_index.csv') as file:\n",
    "    google_index = pd.read_csv(file)"
   ]
  },
  {
   "cell_type": "markdown",
   "metadata": {},
   "source": [
    "First, we need to load the data from the csv file and store them as dataframes. The data will look like the below."
   ]
  },
  {
   "cell_type": "code",
   "execution_count": 2,
   "metadata": {},
   "outputs": [
    {
     "data": {
      "text/html": [
       "<div>\n",
       "<style scoped>\n",
       "    .dataframe tbody tr th:only-of-type {\n",
       "        vertical-align: middle;\n",
       "    }\n",
       "\n",
       "    .dataframe tbody tr th {\n",
       "        vertical-align: top;\n",
       "    }\n",
       "\n",
       "    .dataframe thead th {\n",
       "        text-align: right;\n",
       "    }\n",
       "</style>\n",
       "<table border=\"1\" class=\"dataframe\">\n",
       "  <thead>\n",
       "    <tr style=\"text-align: right;\">\n",
       "      <th></th>\n",
       "      <th>imdbID</th>\n",
       "      <th>Actors</th>\n",
       "      <th>Awards</th>\n",
       "      <th>BoxOffice</th>\n",
       "      <th>Country</th>\n",
       "      <th>DVD</th>\n",
       "      <th>Director</th>\n",
       "      <th>Genre</th>\n",
       "      <th>Language</th>\n",
       "      <th>Metascore</th>\n",
       "      <th>...</th>\n",
       "      <th>Writer</th>\n",
       "      <th>Year</th>\n",
       "      <th>imdbRating</th>\n",
       "      <th>imdbVotes</th>\n",
       "      <th>Cumulative Worldwide Gross</th>\n",
       "      <th>Gross USA</th>\n",
       "      <th>Opening Weekend USA</th>\n",
       "      <th>budget</th>\n",
       "      <th>critic number</th>\n",
       "      <th>user review number</th>\n",
       "    </tr>\n",
       "  </thead>\n",
       "  <tbody>\n",
       "    <tr>\n",
       "      <th>0</th>\n",
       "      <td>tt0499549</td>\n",
       "      <td>Sam Worthington, Zoe Saldana, Sigourney Weaver...</td>\n",
       "      <td>Won 3 Oscars. Another 85 wins &amp; 128 nominations.</td>\n",
       "      <td>$749,700,000</td>\n",
       "      <td>UK, USA</td>\n",
       "      <td>22 Apr 2010</td>\n",
       "      <td>James Cameron</td>\n",
       "      <td>Action, Adventure, Fantasy</td>\n",
       "      <td>English, Spanish</td>\n",
       "      <td>83.0</td>\n",
       "      <td>...</td>\n",
       "      <td>James Cameron</td>\n",
       "      <td>2009.0</td>\n",
       "      <td>7.8</td>\n",
       "      <td>985,058</td>\n",
       "      <td>2.787965e+09</td>\n",
       "      <td>760507625.0</td>\n",
       "      <td>77025481.0</td>\n",
       "      <td>237000000</td>\n",
       "      <td>720.0</td>\n",
       "      <td>3167.0</td>\n",
       "    </tr>\n",
       "    <tr>\n",
       "      <th>1</th>\n",
       "      <td>tt1055369</td>\n",
       "      <td>Shia LaBeouf, Megan Fox, Josh Duhamel, Tyrese ...</td>\n",
       "      <td>Nominated for 1 Oscar. Another 15 wins &amp; 27 no...</td>\n",
       "      <td>$402,076,689</td>\n",
       "      <td>USA</td>\n",
       "      <td>20 Oct 2009</td>\n",
       "      <td>Michael Bay</td>\n",
       "      <td>Action, Adventure, Sci-Fi</td>\n",
       "      <td>English, Spanish</td>\n",
       "      <td>35.0</td>\n",
       "      <td>...</td>\n",
       "      <td>Ehren Kruger, Roberto Orci, Alex Kurtzman</td>\n",
       "      <td>2009.0</td>\n",
       "      <td>6.0</td>\n",
       "      <td>349,263</td>\n",
       "      <td>8.363037e+08</td>\n",
       "      <td>402111870.0</td>\n",
       "      <td>108966307.0</td>\n",
       "      <td>200000000</td>\n",
       "      <td>373.0</td>\n",
       "      <td>1459.0</td>\n",
       "    </tr>\n",
       "  </tbody>\n",
       "</table>\n",
       "<p>2 rows × 26 columns</p>\n",
       "</div>"
      ],
      "text/plain": [
       "      imdbID                                             Actors  \\\n",
       "0  tt0499549  Sam Worthington, Zoe Saldana, Sigourney Weaver...   \n",
       "1  tt1055369  Shia LaBeouf, Megan Fox, Josh Duhamel, Tyrese ...   \n",
       "\n",
       "                                              Awards     BoxOffice  Country  \\\n",
       "0   Won 3 Oscars. Another 85 wins & 128 nominations.  $749,700,000  UK, USA   \n",
       "1  Nominated for 1 Oscar. Another 15 wins & 27 no...  $402,076,689      USA   \n",
       "\n",
       "           DVD       Director                       Genre          Language  \\\n",
       "0  22 Apr 2010  James Cameron  Action, Adventure, Fantasy  English, Spanish   \n",
       "1  20 Oct 2009    Michael Bay   Action, Adventure, Sci-Fi  English, Spanish   \n",
       "\n",
       "   Metascore        ...                                             Writer  \\\n",
       "0       83.0        ...                                      James Cameron   \n",
       "1       35.0        ...          Ehren Kruger, Roberto Orci, Alex Kurtzman   \n",
       "\n",
       "     Year imdbRating imdbVotes Cumulative Worldwide Gross    Gross USA  \\\n",
       "0  2009.0        7.8   985,058               2.787965e+09  760507625.0   \n",
       "1  2009.0        6.0   349,263               8.363037e+08  402111870.0   \n",
       "\n",
       "  Opening Weekend USA     budget  critic number user review number  \n",
       "0          77025481.0  237000000          720.0             3167.0  \n",
       "1         108966307.0  200000000          373.0             1459.0  \n",
       "\n",
       "[2 rows x 26 columns]"
      ]
     },
     "execution_count": 2,
     "metadata": {},
     "output_type": "execute_result"
    }
   ],
   "source": [
    "dataset[:2]"
   ]
  },
  {
   "cell_type": "code",
   "execution_count": 3,
   "metadata": {
    "scrolled": false
   },
   "outputs": [
    {
     "data": {
      "text/html": [
       "<div>\n",
       "<style scoped>\n",
       "    .dataframe tbody tr th:only-of-type {\n",
       "        vertical-align: middle;\n",
       "    }\n",
       "\n",
       "    .dataframe tbody tr th {\n",
       "        vertical-align: top;\n",
       "    }\n",
       "\n",
       "    .dataframe thead th {\n",
       "        text-align: right;\n",
       "    }\n",
       "</style>\n",
       "<table border=\"1\" class=\"dataframe\">\n",
       "  <thead>\n",
       "    <tr style=\"text-align: right;\">\n",
       "      <th></th>\n",
       "      <th>title</th>\n",
       "      <th>date_index0</th>\n",
       "      <th>date_index1</th>\n",
       "      <th>date_index10</th>\n",
       "      <th>date_index11</th>\n",
       "      <th>date_index12</th>\n",
       "      <th>date_index13</th>\n",
       "      <th>date_index14</th>\n",
       "      <th>date_index15</th>\n",
       "      <th>date_index16</th>\n",
       "      <th>...</th>\n",
       "      <th>date_index34</th>\n",
       "      <th>date_index35</th>\n",
       "      <th>date_index36</th>\n",
       "      <th>date_index37</th>\n",
       "      <th>date_index4</th>\n",
       "      <th>date_index5</th>\n",
       "      <th>date_index6</th>\n",
       "      <th>date_index7</th>\n",
       "      <th>date_index8</th>\n",
       "      <th>date_index9</th>\n",
       "    </tr>\n",
       "  </thead>\n",
       "  <tbody>\n",
       "    <tr>\n",
       "      <th>0</th>\n",
       "      <td>Avatar</td>\n",
       "      <td>30</td>\n",
       "      <td>33</td>\n",
       "      <td>82</td>\n",
       "      <td>68</td>\n",
       "      <td>67</td>\n",
       "      <td>67</td>\n",
       "      <td>72</td>\n",
       "      <td>82</td>\n",
       "      <td>83</td>\n",
       "      <td>...</td>\n",
       "      <td>38</td>\n",
       "      <td>43</td>\n",
       "      <td>60</td>\n",
       "      <td>63</td>\n",
       "      <td>32</td>\n",
       "      <td>40</td>\n",
       "      <td>49</td>\n",
       "      <td>74</td>\n",
       "      <td>94</td>\n",
       "      <td>100</td>\n",
       "    </tr>\n",
       "    <tr>\n",
       "      <th>1</th>\n",
       "      <td>Pirates of the Caribbean: At World's End</td>\n",
       "      <td>17</td>\n",
       "      <td>25</td>\n",
       "      <td>73</td>\n",
       "      <td>50</td>\n",
       "      <td>37</td>\n",
       "      <td>30</td>\n",
       "      <td>32</td>\n",
       "      <td>50</td>\n",
       "      <td>32</td>\n",
       "      <td>...</td>\n",
       "      <td>10</td>\n",
       "      <td>12</td>\n",
       "      <td>8</td>\n",
       "      <td>16</td>\n",
       "      <td>30</td>\n",
       "      <td>27</td>\n",
       "      <td>35</td>\n",
       "      <td>63</td>\n",
       "      <td>86</td>\n",
       "      <td>100</td>\n",
       "    </tr>\n",
       "    <tr>\n",
       "      <th>2</th>\n",
       "      <td>Spectre</td>\n",
       "      <td>33</td>\n",
       "      <td>35</td>\n",
       "      <td>57</td>\n",
       "      <td>47</td>\n",
       "      <td>52</td>\n",
       "      <td>43</td>\n",
       "      <td>44</td>\n",
       "      <td>56</td>\n",
       "      <td>57</td>\n",
       "      <td>...</td>\n",
       "      <td>15</td>\n",
       "      <td>18</td>\n",
       "      <td>25</td>\n",
       "      <td>23</td>\n",
       "      <td>31</td>\n",
       "      <td>36</td>\n",
       "      <td>47</td>\n",
       "      <td>73</td>\n",
       "      <td>100</td>\n",
       "      <td>92</td>\n",
       "    </tr>\n",
       "    <tr>\n",
       "      <th>3</th>\n",
       "      <td>The Dark Knight Rises</td>\n",
       "      <td>12</td>\n",
       "      <td>14</td>\n",
       "      <td>58</td>\n",
       "      <td>46</td>\n",
       "      <td>46</td>\n",
       "      <td>39</td>\n",
       "      <td>38</td>\n",
       "      <td>43</td>\n",
       "      <td>43</td>\n",
       "      <td>...</td>\n",
       "      <td>11</td>\n",
       "      <td>10</td>\n",
       "      <td>13</td>\n",
       "      <td>14</td>\n",
       "      <td>25</td>\n",
       "      <td>28</td>\n",
       "      <td>38</td>\n",
       "      <td>91</td>\n",
       "      <td>100</td>\n",
       "      <td>83</td>\n",
       "    </tr>\n",
       "    <tr>\n",
       "      <th>4</th>\n",
       "      <td>John Carter</td>\n",
       "      <td>19</td>\n",
       "      <td>23</td>\n",
       "      <td>59</td>\n",
       "      <td>44</td>\n",
       "      <td>36</td>\n",
       "      <td>33</td>\n",
       "      <td>36</td>\n",
       "      <td>51</td>\n",
       "      <td>48</td>\n",
       "      <td>...</td>\n",
       "      <td>11</td>\n",
       "      <td>14</td>\n",
       "      <td>14</td>\n",
       "      <td>14</td>\n",
       "      <td>28</td>\n",
       "      <td>35</td>\n",
       "      <td>44</td>\n",
       "      <td>75</td>\n",
       "      <td>100</td>\n",
       "      <td>96</td>\n",
       "    </tr>\n",
       "  </tbody>\n",
       "</table>\n",
       "<p>5 rows × 39 columns</p>\n",
       "</div>"
      ],
      "text/plain": [
       "                                      title  date_index0  date_index1  \\\n",
       "0                                    Avatar           30           33   \n",
       "1  Pirates of the Caribbean: At World's End           17           25   \n",
       "2                                   Spectre           33           35   \n",
       "3                     The Dark Knight Rises           12           14   \n",
       "4                               John Carter           19           23   \n",
       "\n",
       "   date_index10  date_index11  date_index12  date_index13  date_index14  \\\n",
       "0            82            68            67            67            72   \n",
       "1            73            50            37            30            32   \n",
       "2            57            47            52            43            44   \n",
       "3            58            46            46            39            38   \n",
       "4            59            44            36            33            36   \n",
       "\n",
       "   date_index15  date_index16     ...       date_index34  date_index35  \\\n",
       "0            82            83     ...                 38            43   \n",
       "1            50            32     ...                 10            12   \n",
       "2            56            57     ...                 15            18   \n",
       "3            43            43     ...                 11            10   \n",
       "4            51            48     ...                 11            14   \n",
       "\n",
       "   date_index36  date_index37  date_index4  date_index5  date_index6  \\\n",
       "0            60            63           32           40           49   \n",
       "1             8            16           30           27           35   \n",
       "2            25            23           31           36           47   \n",
       "3            13            14           25           28           38   \n",
       "4            14            14           28           35           44   \n",
       "\n",
       "   date_index7  date_index8  date_index9  \n",
       "0           74           94          100  \n",
       "1           63           86          100  \n",
       "2           73          100           92  \n",
       "3           91          100           83  \n",
       "4           75          100           96  \n",
       "\n",
       "[5 rows x 39 columns]"
      ]
     },
     "execution_count": 3,
     "metadata": {},
     "output_type": "execute_result"
    }
   ],
   "source": [
    "google_index[:5]"
   ]
  },
  {
   "cell_type": "markdown",
   "metadata": {},
   "source": [
    "## 3.1 IMDB Ratings and Genres\n",
    "First, we want to know whether genre is related to IMDB score. We extract the genres and rating of each movie and then store the data in a dictionary, whose key is genre and value is list of ratings that in this genre.\n",
    "\n",
    "We then plot IMDB average ratings and genre.\n",
    "\n",
    "\n",
    "\n"
   ]
  },
  {
   "cell_type": "code",
   "execution_count": 4,
   "metadata": {},
   "outputs": [],
   "source": [
    "import numpy as np\n",
    "import matplotlib.pyplot as plt\n",
    "from matplotlib.ticker import MaxNLocator\n",
    "from collections import namedtuple\n",
    "from collections import defaultdict\n",
    "\n",
    "genre_dict = defaultdict(list)\n",
    "\n",
    "for index in range(len(dataset)):\n",
    "    genres = dataset.iloc[index]['Genre'].split()\n",
    "    for genre in genres:\n",
    "        genre = genre.strip(' ,')\n",
    "        genre_dict[genre].append(dataset.iloc[index]['imdbRating'])\n",
    "\n",
    "keys = list(genre_dict.keys())\n",
    "index = range(len(keys))\n",
    "mean_ratings = [np.mean(genre_dict[x]) for x in genre_dict]\n"
   ]
  },
  {
   "cell_type": "code",
   "execution_count": 5,
   "metadata": {},
   "outputs": [
    {
     "data": {
      "image/png": "[encoded data removed]",
      "text/plain": [
       "<matplotlib.figure.Figure at 0x10b40d080>"
      ]
     },
     "metadata": {},
     "output_type": "display_data"
    }
   ],
   "source": [
    "plt.figure(figsize=(20,5))\n",
    "width = 0.7\n",
    "ax=plt.subplot(111)\n",
    "plt.bar(index, mean_ratings, width, color=\"grey\")\n",
    "plt.xticks(index, keys, fontsize=15, rotation=30)\n",
    "plt.ylabel('Average IMDB Ratings',fontsize=15)\n",
    "ax.set_xlabel(\"Movie Genre\",fontsize=15)\n",
    "plt.show()"
   ]
  },
  {
   "cell_type": "markdown",
   "metadata": {},
   "source": [
    "## 3.2 Histogram of Movie Released\n",
    "In this Sub-Section, we want to analyze number of movie that was released in each year. As we can see in below chart, our dataset doesn't contain enough data point. Because in common sense, the movie released in each movie should in a trend of increase.\n"
   ]
  },
  {
   "cell_type": "code",
   "execution_count": 6,
   "metadata": {},
   "outputs": [
    {
     "data": {
      "image/png": "[encoded data removed]",
      "text/plain": [
       "<matplotlib.figure.Figure at 0x107e51470>"
      ]
     },
     "metadata": {},
     "output_type": "display_data"
    }
   ],
   "source": [
    "from collections import Counter\n",
    "year_list = [str(int(x)) for x in dataset['Year']]\n",
    "years = Counter(year_list)\n",
    "keys = years.keys()\n",
    "values = years.values()\n",
    "index = range(len(keys))\n",
    "plt.figure(figsize=(20,5))\n",
    "ax=plt.subplot(111)\n",
    "plt.bar(index, values, width, color=\"grey\")\n",
    "plt.xticks(index, keys, fontsize=15, rotation=30)\n",
    "plt.ylabel('Number of movie',fontsize=15)\n",
    "ax.set_xlabel(\"Year\",fontsize=15)\n",
    "plt.show()"
   ]
  },
  {
   "cell_type": "markdown",
   "metadata": {},
   "source": [
    "## 3.3 Histogram of Top 20 Total Gross of Each Director"
   ]
  },
  {
   "cell_type": "code",
   "execution_count": 7,
   "metadata": {},
   "outputs": [],
   "source": [
    "director_gross = defaultdict(int)\n",
    "for index in range(len(dataset)):\n",
    "    director = dataset.iloc[index]['Director']\n",
    "    box_office = dataset.iloc[index]['Gross USA']\n",
    "    director_gross[director] += box_office\n",
    "director_gross = list(director_gross.items())\n",
    "director_gross.sort(key = lambda x: x[1], reverse = True)\n"
   ]
  },
  {
   "cell_type": "code",
   "execution_count": 8,
   "metadata": {
    "scrolled": true
   },
   "outputs": [
    {
     "data": {
      "image/png": "[encoded data removed]",
      "text/plain": [
       "<matplotlib.figure.Figure at 0x10f73a2e8>"
      ]
     },
     "metadata": {},
     "output_type": "display_data"
    }
   ],
   "source": [
    "keys = [director_gross[x][0] for x in range(20)]\n",
    "values = [director_gross[x][1] for x in range(20)]\n",
    "index = range(len(keys))\n",
    "plt.figure(figsize=(20,5))\n",
    "ax=plt.subplot(111)\n",
    "plt.bar(index, values, width, color=\"grey\")\n",
    "plt.xticks(index, keys, fontsize=15, rotation=30)\n",
    "plt.ylabel('Total Gross',fontsize=15)\n",
    "ax.set_xlabel(\"Name of Director\",fontsize=15)\n",
    "plt.show()"
   ]
  },
  {
   "cell_type": "markdown",
   "metadata": {
    "collapsed": true
   },
   "source": [
    "## 3.4 Opening Weekend Gross Distribution"
   ]
  },
  {
   "cell_type": "code",
   "execution_count": 9,
   "metadata": {},
   "outputs": [
    {
     "data": {
      "image/png": "[encoded data removed]",
      "text/plain": [
       "<matplotlib.figure.Figure at 0x10f73a6a0>"
      ]
     },
     "metadata": {},
     "output_type": "display_data"
    }
   ],
   "source": [
    "opening_weekend_gross = dataset['Opening Weekend USA'].dropna(axis=0, how='any')\n",
    "plt.figure(figsize=(15,5))\n",
    "plt.ylabel('Number of movies',fontsize=15)\n",
    "plt.xlabel('Opening Weekend Gross',fontsize=15)\n",
    "n, bins, patches = plt.hist(opening_weekend_gross, bins=100, color=\"grey\")\n",
    "plt.show()"
   ]
  },
  {
   "cell_type": "markdown",
   "metadata": {},
   "source": [
    "We can see from the plot, grosses of moives are extremely skewed, most movies earn little in the first week after released, acutally, 44% of movies get box office less then \\$1,000,000. Data is very sparse after \\$50,000,000 (6.1% of movies, i.g. 184 movies). Next figure shows every data point in it, for better readibility, we scale out at y axis."
   ]
  },
  {
   "cell_type": "code",
   "execution_count": 10,
   "metadata": {},
   "outputs": [
    {
     "data": {
      "image/png": "[encoded data removed]",
      "text/plain": [
       "<matplotlib.figure.Figure at 0x10f73a940>"
      ]
     },
     "metadata": {},
     "output_type": "display_data"
    }
   ],
   "source": [
    "plt.figure(figsize=(15,6))\n",
    "plt.ylabel('Sample Index',fontsize=15)\n",
    "plt.xlabel('Opening Weekend Gross',fontsize=15)\n",
    "plt.scatter(opening_weekend_gross.sort_values(), range(len(opening_weekend_gross)), color=\"grey\")\n",
    "plt.show()"
   ]
  },
  {
   "cell_type": "markdown",
   "metadata": {},
   "source": [
    "# 4 Models\n",
    "## 4.1 Features Extraction\n",
    "At first we try to predict opening week box office based on 'Director', 'Runtime', 'Released', 'Actors'\n",
    "\n",
    "In these features, some are numerical but others are nominal, we can not use nominal features as input to classfication models like logistic regression and SVM, so we use one hot encoding to convert nominal features into numerical one. E.g. for actors, one movie has multiple actors, we gather all actors appeared in the dataset and use every one of it as a feature, movies with actor A is set 1 at feature 'actor A', otherwise 0.\n",
    "\n"
   ]
  },
  {
   "cell_type": "code",
   "execution_count": 11,
   "metadata": {},
   "outputs": [
    {
     "name": "stdout",
     "output_type": "stream",
     "text": [
      "Sam Worthington 0\n",
      "Zoe Saldana 1\n",
      "Sigourney Weaver 2\n",
      "Stephen Lang 3\n",
      "Shia LaBeouf 4\n"
     ]
    },
    {
     "data": {
      "text/plain": [
       "array([[1, 1, 1, ..., 0, 0, 0],\n",
       "       [0, 0, 0, ..., 0, 0, 0],\n",
       "       [0, 0, 0, ..., 0, 0, 0],\n",
       "       ...,\n",
       "       [0, 0, 0, ..., 0, 0, 0],\n",
       "       [0, 0, 0, ..., 1, 0, 0],\n",
       "       [0, 0, 0, ..., 0, 1, 1]])"
      ]
     },
     "execution_count": 11,
     "metadata": {},
     "output_type": "execute_result"
    }
   ],
   "source": [
    "def one_hot_encoding_column(df, col_name, delimiter=','):\n",
    "    item_map = {}\n",
    "    item_count = 0\n",
    "    movie_size = len(df)\n",
    "    for i in range(movie_size):\n",
    "        items = str(df[col_name].iloc[i])\n",
    "        items_arr = items.split(delimiter)\n",
    "        for item in items_arr:\n",
    "            item = item.strip()\n",
    "            if item not in item_map:\n",
    "                item_map[item] = item_count\n",
    "                item_count += 1\n",
    "\n",
    "    Matrix = [[0 for x in range(item_count)] for y in range(movie_size)] \n",
    "    for i in range(movie_size):\n",
    "        items = str(df[col_name].iloc[i])\n",
    "        items_arr = items.split(delimiter)\n",
    "        for item in items_arr:\n",
    "            item = item.strip()\n",
    "            idx = item_map[item]\n",
    "\n",
    "            Matrix[i][idx] = 1\n",
    "    return item_map, np.asarray(Matrix)\n",
    "\n",
    "actors_map, actors_Matrix = one_hot_encoding_column(dataset, 'Actors')\n",
    "for i in list(actors_map.keys())[:5]:\n",
    "    print(i,actors_map[i])\n",
    "actors_Matrix"
   ]
  },
  {
   "cell_type": "markdown",
   "metadata": {},
   "source": [
    "At first, we need to clean the dataset to simpler format because original dataset has more complicated format in it, which can not be used directly."
   ]
  },
  {
   "cell_type": "code",
   "execution_count": 12,
   "metadata": {},
   "outputs": [],
   "source": [
    "df = pd.read_csv('result.csv',index_col=['imdbID'], header=0)\n",
    "df = df[np.isfinite(df['Opening Weekend USA'])]\n",
    "df['Production'] = [d.replace('/',',') for d in df['Production']]\n",
    "df['Director'] = [d.replace('(co-director)','') for d in df['Director']]\n",
    "df['Runtime'] = df['Runtime'].replace( 'min','', regex=True ).astype(int)\n",
    "df['Released'] = [a[3:6] for a in df['Released']]\n",
    "df['imdbRating'] = [round(r * 2) / 2 for r in df['imdbRating']]\n",
    "df['Oscar'] = [int(str.find('Oscar') > 0) for str in df['Awards']]\n"
   ]
  },
  {
   "cell_type": "markdown",
   "metadata": {},
   "source": [
    "As mentioned above, box offices are not scaled (with skew to the right), so log function is applied here to smooth the earnings. Also, as we said, we plan to use a recent year as our test set. So we set up our test matrix to use movies in 2017, and everything else as our training data."
   ]
  },
  {
   "cell_type": "code",
   "execution_count": 13,
   "metadata": {},
   "outputs": [],
   "source": [
    "def get_log_label (bins, box_office_value):\n",
    "    log_val = np.log(box_office_value)\n",
    "    for i in range(len(bins[1])):\n",
    "        if bins[1][i] <= log_val and log_val <= bins[1][i+1]:\n",
    "            return i\n",
    "    return len(bins[1]) - 1"
   ]
  },
  {
   "cell_type": "markdown",
   "metadata": {},
   "source": [
    "You might have noticed that most of the features are composed of multiple/grouped values. We previously mentioned the \"Actors\" column, where we have 4 leading/supporting actors. Beyond that, a film can be co-directed by multiple directors, made by 2 production companies, having 2-3 different genres and be published in several languages. Here we write the helper function to setup a prediction matrix by unraveling each of the columns we are interested in. "
   ]
  },
  {
   "cell_type": "code",
   "execution_count": 14,
   "metadata": {},
   "outputs": [],
   "source": [
    "def setup_prediction_matrix (bins, column_names, year):\n",
    "    \n",
    "    labels = [get_log_label(bins, o) for o in df['Opening Weekend USA']]\n",
    "    encoded_matrix = []\n",
    "    for column in column_names:\n",
    "        column_map, column_Matrix = one_hot_encoding_column(df, column)\n",
    "        encoded_matrix.append(column_Matrix)\n",
    "        \n",
    "    t_Matrix = np.concatenate(encoded_matrix, axis=1)     \n",
    "    x_train = t_Matrix[df['Year'] != year]\n",
    "    x_test = t_Matrix[df['Year'] == year ]\n",
    "    y_train = np.array(labels)[df['Year'] != year]\n",
    "    y_test = np.array(labels)[df['Year'] == year ]\n",
    "    \n",
    "    return x_train, x_test, y_train, y_test"
   ]
  },
  {
   "cell_type": "markdown",
   "metadata": {},
   "source": [
    "We applied three models on our features: logistic regression, decision tree and random forest. We can manually pass in the bin-size, which is the number of classfied labels each representing a range of the box office values. If we pass in 2 as bin-size, it would be the most basic binary classifer to draw the cheap line. For bin size greater than 2, it basically classifies movies up to the nth tier. "
   ]
  },
  {
   "cell_type": "code",
   "execution_count": 15,
   "metadata": {},
   "outputs": [
    {
     "name": "stdout",
     "output_type": "stream",
     "text": [
      "Logistic regression with: 2 label classes, accuracy: 0.8294573643410853\n",
      "Logistic regression with: 4 label classes, accuracy: 0.7441860465116279\n",
      "Logistic regression with: 8 label classes, accuracy: 0.6356589147286822\n",
      "\n",
      "Decision Tree with: 2 label classes, accuracy: 0.8449612403100775\n",
      "Decision Tree with: 4 label classes, accuracy: 0.689922480620155\n",
      "Decision Tree with: 8 label classes, accuracy: 0.5038759689922481\n",
      "\n",
      "Random Forest with: 2 label classes, accuracy: 0.8914728682170543\n",
      "Random Forest with: 4 label classes, accuracy: 0.7209302325581395\n",
      "Random Forest with: 8 label classes, accuracy: 0.5503875968992248\n",
      "End of traning.\n"
     ]
    }
   ],
   "source": [
    "from sklearn.linear_model import LogisticRegression\n",
    "from sklearn.tree import DecisionTreeClassifier\n",
    "from sklearn.ensemble import RandomForestClassifier\n",
    "\n",
    "def logistic_regression_model (bin_size, column_names, year, verbose=False):\n",
    "    bins = plt.hist(np.log(df['Opening Weekend USA']), bin_size)\n",
    "    x_train, x_test, y_train, y_test = setup_prediction_matrix (bins,column_names, year)\n",
    "    clf_l2_LR = LogisticRegression(multi_class=\"multinomial\", solver = 'lbfgs', \\\n",
    "        class_weight ='balanced', random_state = 2)\n",
    "    clf_l2_LR.fit(x_train, y_train)\n",
    "    y_predit = clf_l2_LR.predict(x_test)\n",
    "    print (\"Logistic regression with:\", bin_size, \"label classes,\", \"accuracy:\", np.mean(y_predit == y_test))\n",
    "    plt.close()\n",
    "    return bins \n",
    "    \n",
    "    \n",
    "def decision_tree_model (bin_size,column_names, year, verbose=False):\n",
    "    bins = plt.hist(np.log(df['Opening Weekend USA']), bin_size)\n",
    "    x_train, x_test, y_train, y_test = setup_prediction_matrix (bins,column_names, year)\n",
    "    \n",
    "    DTC = DecisionTreeClassifier()\n",
    "    DTC.fit(x_train, y_train)\n",
    "    y_predit = DTC.predict(x_test)\n",
    "    print (\"Decision Tree with:\", bin_size, \"label classes,\", \"accuracy:\", np.mean(y_predit == y_test))\n",
    "    plt.close()\n",
    "    return bins, DTC\n",
    "\n",
    "def random_forest_model (bin_size,column_names, year, verbose=False):\n",
    "    bins = plt.hist(np.log(df['Opening Weekend USA']), bin_size)\n",
    "    x_train, x_test, y_train, y_test = setup_prediction_matrix (bins,column_names, year)\n",
    "    \n",
    "    CLF = RandomForestClassifier()\n",
    "    CLF.fit(x_train, y_train)\n",
    "    y_predit = CLF.predict(x_test)\n",
    "    print (\"Random Forest with:\", bin_size, \"label classes,\", \"accuracy:\", np.mean(y_predit == y_test))\n",
    "    plt.close()\n",
    "    return bins, CLF\n",
    "\n",
    "    \n",
    "def show_bins(bins):\n",
    "     for i in range(len(bins[0])):\n",
    "        print (\"label\", i+1 , \":\",  np.exp(bins[1][i]), '-' ,np.exp(bins[1][i+1]), \",\" , str(bins[0][i]) , \"movies\")\n",
    "    \n",
    "features = ['Actors','Production', 'Director', 'Country', 'Rated', 'Released', 'Genre']\n",
    "\n",
    "logistic_regression_model(2, features, 2017)\n",
    "logistic_regression_model(4, features, 2017)\n",
    "logistic_regression_model(8, features, 2017)\n",
    "print (\"\")\n",
    "decision_tree_model(2, features, 2017)\n",
    "decision_tree_model(4, features, 2017)\n",
    "decision_tree_model(8, features, 2017)\n",
    "print (\"\")\n",
    "\n",
    "random_forest_model(2, features, 2017)\n",
    "random_forest_model(4, features, 2017)\n",
    "random_forest_model(8, features, 2017)\n",
    "print(\"End of traning.\")"
   ]
  },
  {
   "cell_type": "markdown",
   "metadata": {},
   "source": [
    "On the same traning set and test set, random forest model is better then two other models, achieving 89% accuracy when doing binary classfication. As number of classes increases, the accuracy drops, this is an expected trend because as sections become smaller, it is harder to match up the exact class range of the box office of the movies."
   ]
  },
  {
   "cell_type": "markdown",
   "metadata": {},
   "source": [
    "Besides prediction of box office, it is also good to know which features are the most influential to box office predication. By knowing these, we may find interesting factors which makes a movie a good or just ordinary. These factores can be important reasons of investment and moviegoers' decisions. So we print out importances of features in decision tree, specifically on features that we are interested about like production and genre. "
   ]
  },
  {
   "cell_type": "code",
   "execution_count": 16,
   "metadata": {},
   "outputs": [
    {
     "name": "stdout",
     "output_type": "stream",
     "text": [
      "Decision Tree with: 3 label classes, accuracy: 0.8217054263565892\n",
      "Feature ranking for: Production\n",
      "1. Sony Pictures Classics (0.084816)\n",
      "2. Universal Pictures (0.051247)\n",
      "3. Warner Bros. Pictures (0.051029)\n",
      "4. 20th Century Fox (0.049313)\n",
      "\n",
      "Decision Tree with: 3 label classes, accuracy: 0.7441860465116279\n",
      "Feature ranking for: Genre\n",
      "1. Drama (0.506969)\n",
      "2. Action (0.053715)\n",
      "3. Biography (0.049196)\n",
      "4. Romance (0.042124)\n",
      "\n",
      "Decision Tree with: 3 label classes, accuracy: 0.6356589147286822\n",
      "Feature ranking for: Actors\n",
      "1. Kristin Scott Thomas (0.004973)\n",
      "2. Adam Sandler (0.004208)\n",
      "3. Johnny Depp (0.004190)\n",
      "4. Cameron Diaz (0.004106)\n",
      "\n",
      "Decision Tree with: 3 label classes, accuracy: 0.5736434108527132\n",
      "Feature ranking for: Director\n",
      "1. Tyler Perry (0.005018)\n",
      "2. Gus Van Sant (0.003602)\n",
      "3. Ridley Scott (0.002848)\n",
      "4. Shawn Levy (0.002830)\n",
      "\n",
      "Decision Tree with: 3 label classes, accuracy: 0.6201550387596899\n",
      "Feature ranking for: Released\n",
      "1. Jan (0.364891)\n",
      "2. Sep (0.203495)\n",
      "3. May (0.202065)\n",
      "4. Apr (0.109755)\n",
      "\n"
     ]
    }
   ],
   "source": [
    "def feature_importance_study(column_name, year, df, bin_size, n):\n",
    "    \n",
    "    def recover_key(dicty, value):\n",
    "        for a_key in dicty.keys():\n",
    "            if (dicty[a_key] == value):\n",
    "                return a_key\n",
    "\n",
    "    col_map, col_matrix = one_hot_encoding_column(df, column_name)\n",
    "    bins, CLF = decision_tree_model(n, [column_name], year)\n",
    "\n",
    "    importances = CLF.feature_importances_\n",
    "    indices = np.argsort(importances)[::-1]\n",
    "    print(\"Feature ranking for:\", column_name)\n",
    "    cc = 0\n",
    "    for f in range(col_matrix.shape[1]):\n",
    "        print(\"%d. %s (%f)\" % (f + 1, recover_key(col_map, indices[f]), importances[indices[f]]))  \n",
    "        if cc == n:\n",
    "            break\n",
    "        cc += 1\n",
    "    print (\"\")\n",
    "\n",
    "feature_importance_study (\"Production\", 2017, df, 4, 3)\n",
    "feature_importance_study (\"Genre\", 2017, df, 4, 3)\n",
    "feature_importance_study (\"Actors\", 2017, df, 8, 3)\n",
    "feature_importance_study (\"Director\", 2017, df, 4, 3)\n",
    "feature_importance_study (\"Released\", 2017, df, 4, 3)"
   ]
  },
  {
   "cell_type": "markdown",
   "metadata": {},
   "source": [
    "As we can tell from the rankings, influential productions are all well-known productions, influential genre are Drame, Action, Biography and Romance, which is not surprising. Also, January is important to box office, we guess because it is in the winter holidays, in the other words, people have more time to watch movies."
   ]
  },
  {
   "cell_type": "markdown",
   "metadata": {},
   "source": [
    "### Chances for Awards? ###\n",
    "\n",
    "As moive junkies ourselves, one of the most exciting moment every year is for the Oscar nominations to be revealed. We are curious about how our model performs to predict whether a certain movie can show up on the Oscar stage."
   ]
  },
  {
   "cell_type": "code",
   "execution_count": 17,
   "metadata": {},
   "outputs": [
    {
     "name": "stdout",
     "output_type": "stream",
     "text": [
      "Accuracy score:  0.8527131782945736 \n",
      "\n"
     ]
    },
    {
     "data": {
      "text/plain": [
       "'Dunkirk is 85.74% positive, 14.26% negative to go to the Oscar.'"
      ]
     },
     "execution_count": 17,
     "metadata": {},
     "output_type": "execute_result"
    }
   ],
   "source": [
    "encoded_matrix = []\n",
    "for column in features:\n",
    "    column_map, column_Matrix = one_hot_encoding_column(df,column)\n",
    "    encoded_matrix.append(column_Matrix)\n",
    "    \n",
    "t_Matrix = np.concatenate(encoded_matrix, axis=1)     \n",
    "x_train = t_Matrix[df['Year'] != 2017]\n",
    "x_test = t_Matrix[df['Year'] == 2017 ]\n",
    "\n",
    "y_train = [o for o in df[df['Year']!=2017]['Oscar']]\n",
    "y_test = [o for o in df[df['Year']==2017]['Oscar']]\n",
    "\n",
    "clf_l2_LR = LogisticRegression(multi_class=\"multinomial\", solver = 'lbfgs', \\\n",
    "        class_weight ='balanced', random_state = 2)\n",
    "clf_l2_LR.fit(x_train, y_train)\n",
    "y_predit = clf_l2_LR.predict(x_test)\n",
    "prob = clf_l2_LR.predict_proba(x_test)\n",
    "print (\"Accuracy score: \", clf_l2_LR.score(x_test, y_test), \"\\n\")\n",
    "\n",
    "prediction = {}\n",
    "for i in range (len(x_test)):\n",
    "    prediction[df[df['Year']==2017].iloc[i].Title] = (df[df['Year']==2017].iloc[i].Title+ \" is \" + \\\n",
    "                                                      str(round(prob[i][1] * 100,2)) + \"% positive, \"\\\n",
    "                                                      + str(round(prob[i][0]*100,2)) + \"% negative to go to the Oscar.\"  )\n",
    "\n",
    "prediction['Dunkirk']"
   ]
  },
  {
   "cell_type": "markdown",
   "metadata": {},
   "source": [
    "## 4.5 Gross Predication\n",
    "Besides predicting opening weekend box office, we also want to predict gross of a movie. Different from predicting opening weeken box office, we have more features to use in this task like crirtic number, reviews and imdb scores, because in the first week, these features are usually unavailable or not sufficient enough.\n",
    "\n",
    "In fact, we add four features: 'imdbRating','imdbVotes', 'critic number' and 'user review number', these numbers in some sense show feedback of audiences, which might be valuable for gross prediction. We redifine classes because gross and first week box office are different in scale. We divide gross into 8 classes: \\[0,1), [1,2), [2,3), [3,4), [4,5), [5,6), [6,7), >7 (Million) and we try logistic regression, SVM and dicision tree. Random 80% of data are used as traning set, the other are test set."
   ]
  },
  {
   "cell_type": "code",
   "execution_count": 18,
   "metadata": {},
   "outputs": [
    {
     "name": "stdout",
     "output_type": "stream",
     "text": [
      "Finished Setting up testing and training set:\n",
      "Logistic Regression Validation accuracy: 0.8739770867430442\n",
      "SVM Validation accuracy: 0.8772504091653028\n",
      "Decision Tree Validation accuracy: 0.8936170212765957\n"
     ]
    }
   ],
   "source": [
    "from sklearn.utils import shuffle\n",
    "from sklearn.preprocessing import normalize\n",
    "from sklearn.linear_model import LogisticRegression\n",
    "from sklearn.tree import DecisionTreeClassifier\n",
    "from sklearn.svm import SVC\n",
    "\n",
    "def get_labels_overall(gross):\n",
    "    gross_classes = np.array([0, 1, 2, 3, 4, 5, 6, 7, float('Inf')]) * 1e8\n",
    "    \n",
    "    labels = []\n",
    "    for i in gross:\n",
    "        for j in range(len(gross_classes)):\n",
    "            if gross_classes[j] <= i < gross_classes[j+1]:\n",
    "                labels.append(j)\n",
    "    return labels\n",
    "\n",
    "df = pd.read_csv('result.csv',index_col=['imdbID'], header=0)\n",
    "#retrieve all candidate features\n",
    "df = df.loc[:,['imdbRating','imdbVotes', 'critic number', 'user review number', 'Actors','Country', \n",
    "               'Genre', 'Production', 'Rated', 'Year', 'Runtime', 'BoxOffice']]\n",
    "#drop empty row\n",
    "df = df.dropna(axis=0, how='any')\n",
    "df = df.reset_index()\n",
    "\n",
    "df['BoxOffice'] = df['BoxOffice'].replace( '[\\$,)]','', regex=True ).astype(float)\n",
    "df['Runtime'] = df['Runtime'].replace( 'min','', regex=True ).astype(int)\n",
    "df['imdbVotes'] = df['imdbVotes'].replace( ',','', regex=True ).astype(int)\n",
    "df['imdbRating'] = df['imdbRating']\n",
    "#shuffle data to get random test set and traning set\n",
    "df = shuffle(df)\n",
    "\n",
    "movie_size = (len(df))\n",
    "test_size = int(movie_size/5)\n",
    "sample_size = movie_size - test_size\n",
    "#divide gross into classes\n",
    "labels = get_labels_overall(df['BoxOffice'])\n",
    "\n",
    "#####\n",
    "#one hot encoding nominal features\n",
    "actors_map, actors_Matrix = one_hot_encoding_column(df, 'Actors')\n",
    "genre_map, genre_Matrix = one_hot_encoding_column(df, 'Genre')\n",
    "contry_map, country_Matrix = one_hot_encoding_column(df, 'Country')\n",
    "production_map, production_Matrix = one_hot_encoding_column(df, 'Production')\n",
    "rated_map, rated_Matrix = one_hot_encoding_column(df, 'Rated')\n",
    "#####\n",
    "#normalize numerical features\n",
    "numerical_features = normalize(df.loc[:, ['Year', 'Runtime','imdbRating','imdbVotes', 'critic number', 'user review number']].as_matrix(), axis=0) \n",
    "\n",
    "t_Matrix = np.concatenate((actors_Matrix, \n",
    "                           genre_Matrix,\n",
    "                           country_Matrix, \n",
    "                           production_Matrix,\n",
    "                           rated_Matrix,\n",
    "                           numerical_features\n",
    "                          ), axis=1)\n",
    "\n",
    "x_train = t_Matrix[:sample_size]\n",
    "x_test = t_Matrix[sample_size: ]\n",
    "\n",
    "y_train = np.array(labels[:sample_size])\n",
    "y_test = np.array(labels[sample_size: ])\n",
    "\n",
    "print (\"Finished Setting up testing and training set:\")\n",
    "values = []\n",
    "\n",
    "#Logistic Regression Model\n",
    "clf_l2_LR = LogisticRegression(multi_class=\"multinomial\", solver = 'lbfgs')\n",
    "clf_l2_LR.fit(x_train, y_train)\n",
    "y_predit = clf_l2_LR.predict(x_test)\n",
    "print(\"Logistic Regression Validation accuracy:\", np.mean(y_predit==y_test))\n",
    "values.append(np.mean(y_predit==y_test))\n",
    "\n",
    "#Support Vector Machine Model\n",
    "clf = SVC()\n",
    "clf.fit(x_train, y_train)\n",
    "y_p = clf.predict(x_test)\n",
    "print(\"SVM Validation accuracy:\", np.mean(y_p==y_test))\n",
    "values.append(np.mean(y_predit==y_test))\n",
    "\n",
    "#Decision Tree Model\n",
    "clf_tree = DecisionTreeClassifier(max_depth=5)\n",
    "clf_tree.fit(x_train, y_train)\n",
    "y_p = clf_tree.predict(x_test)\n",
    "print(\"Decision Tree Validation accuracy:\", np.mean(y_p==y_test))\n",
    "values.append(np.mean(y_predit==y_test))"
   ]
  },
  {
   "cell_type": "code",
   "execution_count": 19,
   "metadata": {},
   "outputs": [
    {
     "data": {
      "image/png": "[encoded data removed]",
      "text/plain": [
       "<matplotlib.figure.Figure at 0x10b8d2f98>"
      ]
     },
     "metadata": {},
     "output_type": "display_data"
    }
   ],
   "source": [
    "keys = ['LR', 'SVM', 'DT']\n",
    "index = range(len(keys))\n",
    "ax=plt.subplot(111)\n",
    "plt.bar(index, values, 0.3, color=\"grey\")\n",
    "plt.xticks(index, keys, fontsize=15, rotation=30)\n",
    "plt.ylabel('Accuracy',fontsize=15)\n",
    "ax.set_xlabel(\"Models\",fontsize=15)\n",
    "plt.show()"
   ]
  },
  {
   "cell_type": "markdown",
   "metadata": {},
   "source": [
    "There is not much difference among three models, decision tree achieve slightly higher accuracy. We randomly select our test set and traning set, so the result may varies a little, but generally speaking, we achieve better accuracy in this task than in opening week box office predication. This result makes sense because considering 4 features we added: 'imdbRating','imdbVotes', 'critic number', 'user review number'. 'imdbRating' indicates how audiences think of a movie; 'imdbVotes' is a good indicator of how many people have watched this movie which is very relevant to the final box office; 'critic number' shows how bad people think of this movie and 'user review number' in some sense shows whether this is a popular movie whatever because it is awful or excellent. For finding what is the most influential features in this task, we sort the importances index of decision tree and pick up the first 5 most important features."
   ]
  },
  {
   "cell_type": "code",
   "execution_count": 20,
   "metadata": {
    "scrolled": true
   },
   "outputs": [
    {
     "data": {
      "text/plain": [
       "[(0.6001950530627136, 6658),\n",
       " (0.11156004217803901, 6647),\n",
       " (0.0645423527617098, 6657),\n",
       " (0.048685377205802315, 6076),\n",
       " (0.03550194587869856, 6660),\n",
       " (0.02696449343612505, 6209)]"
      ]
     },
     "execution_count": 20,
     "metadata": {},
     "output_type": "execute_result"
    }
   ],
   "source": [
    "feature_importances = [(val, i)for i, val in enumerate(clf_tree.feature_importances_)]\n",
    "sorted(feature_importances, reverse=True)[:6]"
   ]
  },
  {
   "cell_type": "markdown",
   "metadata": {},
   "source": [
    "From high to low importance, these features are:<br>\n",
    "'imdbVotes'<br>\n",
    "'R'(Rated)<br>\n",
    "'PG'(Rated)<br>\n",
    "'Adventure'<br>\n",
    "'user review number'<br>\n",
    "'imdbRating'<br>\n",
    "This result verifies that aforementioned four features are valuable as we expected, only 'critic number' does not appear in top 6. And imdbVotes have greate influence in decision tree model, as we explained, this features includes the information of how many people view this movie at the time."
   ]
  },
  {
   "cell_type": "markdown",
   "metadata": {},
   "source": []
  },
  {
   "cell_type": "code",
   "execution_count": null,
   "metadata": {},
   "outputs": [],
   "source": []
  }
 ],
 "metadata": {
  "kernelspec": {
   "display_name": "Python 3",
   "language": "python",
   "name": "python3"
  },
  "language_info": {
   "codemirror_mode": {
    "name": "ipython",
    "version": 3
   },
   "file_extension": ".py",
   "mimetype": "text/x-python",
   "name": "python",
   "nbconvert_exporter": "python",
   "pygments_lexer": "ipython3",
   "version": "3.6.4"
  }
 },
 "nbformat": 4,
 "nbformat_minor": 2
}
